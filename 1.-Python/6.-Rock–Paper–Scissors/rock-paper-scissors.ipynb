{
 "cells": [
  {
   "cell_type": "markdown",
   "metadata": {},
   "source": [
    "<img src=\"https://bit.ly/2VnXWr2\" width=\"100\" align=\"left\">"
   ]
  },
  {
   "cell_type": "markdown",
   "metadata": {},
   "source": [
    "# Rock, Paper & Scissors\n",
    "\n",
    "Let's play the famous game against our computer. You can check the rules [here](https://en.wikipedia.org/wiki/Rock%E2%80%93paper%E2%80%93scissors). \n",
    "\n",
    "## Task\n",
    "Create a program that imitates the playability of the well known game of rock, paper, scissors. Follow the guidelines provided.\n",
    "\n",
    "## Tools\n",
    "1. Loop: **for/while**\n",
    "2. Functions: **input(), print()...**\n",
    "3. Conditional statements: **if, elif, else**\n",
    "4. Definition of functions. Modular programming\n",
    "5. Import modules\n",
    "\n",
    "**To solve this challenge, the use of functions is recommended.**\n",
    "\n",
    "#### 1. Import the choice function of the random module."
   ]
  },
  {
   "cell_type": "code",
   "execution_count": 1,
   "metadata": {},
   "outputs": [],
   "source": [
    "import random"
   ]
  },
  {
   "cell_type": "markdown",
   "metadata": {},
   "source": [
    "#### 2. Create a list that includes the 3 possible gesture options of the game: 'rock', 'paper' or 'scissors'. Store the list in a variable called `gestures`."
   ]
  },
  {
   "cell_type": "code",
   "execution_count": 2,
   "metadata": {},
   "outputs": [],
   "source": [
    "gestures=[\"rock\", \"paper\", \"scissors\"]"
   ]
  },
  {
   "cell_type": "markdown",
   "metadata": {},
   "source": [
    "#### 3. Create a variable called `n_rounds` to store the maximum number of rounds to play in a game. \n",
    "Remember that the number of rounds must be odd: 1, 3, 5, ..."
   ]
  },
  {
   "cell_type": "code",
   "execution_count": 3,
   "metadata": {},
   "outputs": [],
   "source": [
    "n_rounds=3"
   ]
  },
  {
   "cell_type": "markdown",
   "metadata": {},
   "source": [
    "#### 4. Create a variable called `rounds_to_win` to store the number of rounds that a player must win to win the game.\n",
    "**Hint**: the value stored in `rounds_to_win` depends on the value of `n_rounds`. "
   ]
  },
  {
   "cell_type": "code",
   "execution_count": 4,
   "metadata": {},
   "outputs": [
    {
     "name": "stdout",
     "output_type": "stream",
     "text": [
      "2\n"
     ]
    }
   ],
   "source": [
    "rounds_to_win =int(n_rounds/2)+1\n",
    "print(rounds_to_win)"
   ]
  },
  {
   "cell_type": "markdown",
   "metadata": {},
   "source": [
    "#### 5. Create two variables to store the number of rounds that the computer and the player have won. Call these variables `cpu_score` and `player_score`."
   ]
  },
  {
   "cell_type": "code",
   "execution_count": 5,
   "metadata": {},
   "outputs": [],
   "source": [
    "cpu_score =0\n",
    "player_score =0"
   ]
  },
  {
   "cell_type": "markdown",
   "metadata": {},
   "source": [
    "#### 6. Define a function that randomly returns one of the 3 gesture options.\n",
    "You will use this function to simulate the gesture choice of the computer. "
   ]
  },
  {
   "cell_type": "code",
   "execution_count": 9,
   "metadata": {},
   "outputs": [],
   "source": [
    "def computer_gesture():  \n",
    "    return random.choice(gestures)"
   ]
  },
  {
   "cell_type": "markdown",
   "metadata": {},
   "source": [
    "#### 7. Define a function that asks the player which is the gesture he or she wants to show: 'rock', 'paper' or 'scissors'.\n",
    "The player should only be allowed to choose one of the 3 gesture options. If the player's choice is not rock, paper or scissors, keep asking until it is."
   ]
  },
  {
   "cell_type": "code",
   "execution_count": 1,
   "metadata": {},
   "outputs": [],
   "source": [
    "def player_gesture():\n",
    "    playerinput = input(\"Player, choose either rock/paper/scissors\")\n",
    "    while playerinput not in gestures:\n",
    "        playerinput = input(\"Player, choose either rock/paper/scissors\")\n",
    "    return(playerinput)"
   ]
  },
  {
   "cell_type": "markdown",
   "metadata": {},
   "source": [
    "#### 8. Define a function that checks who won a round. \n",
    "The function should return 0 if there is a tie, 1 if the computer wins and 2 if the player wins."
   ]
  },
  {
   "cell_type": "code",
   "execution_count": 11,
   "metadata": {},
   "outputs": [],
   "source": [
    "def round_winner(cpu_move, player_move):\n",
    "    \n",
    "    if cpu_move == 'rock':\n",
    "        if player_move == 'rock':\n",
    "            return 0\n",
    "        elif player_move == 'paper':\n",
    "            return 2\n",
    "        elif player_move == 'scissors':\n",
    "            return 1\n",
    "    elif cpu_move == 'scissors':\n",
    "        if player_move == 'rock':\n",
    "            return 2\n",
    "        elif player_move == 'paper':\n",
    "            return 1\n",
    "        elif player_move == 'scissors':\n",
    "            return 0\n",
    "    elif cpu_move == 'paper':\n",
    "        if player_move == 'rock':\n",
    "            return 1\n",
    "        elif player_move == 'paper':\n",
    "            return 0\n",
    "        elif player_move == 'scissors':\n",
    "            return 2"
   ]
  },
  {
   "cell_type": "markdown",
   "metadata": {},
   "source": [
    "#### 9. Define a function that prints the choice of the computer, the choice of the player and a message that announces who won the current round. \n",
    "You should also use this function to update the variables that count the number of rounds that the computer and the player have won. The score of the winner increases by one point. If there is a tie, the score does not increase."
   ]
  },
  {
   "cell_type": "markdown",
   "metadata": {},
   "source": [
    "You have functions of the following:\n",
    "1) Random choice for computer gesture\n",
    "2) Ask for player's gesture\n",
    "3) A way to calculate who has won the round\n",
    "\n",
    "Now define a function to print the computer gesture, player's gesture and the result of the round."
   ]
  },
  {
   "cell_type": "code",
   "execution_count": 12,
   "metadata": {},
   "outputs": [],
   "source": [
    "def round_recap(cpu_move, player_move, round_result):\n",
    "    \n",
    "    print('Computer gesture is', cpu_move)\n",
    "    print('Player gesture is', player_move)\n",
    "    \n",
    "    if round_result == 0:\n",
    "        return(\"It's a tie.\")\n",
    "    \n",
    "    elif round_result == 1:\n",
    "        print('Computer wins this round.')\n",
    "        global cpu_score\n",
    "        global player_score\n",
    "        cpu_score +=1\n",
    "        return(cpu_score)\n",
    "    \n",
    "    elif round_result == 2:\n",
    "        print('Player wins this round.')\n",
    "        player_score +=1\n",
    "        return(player_score)"
   ]
  },
  {
   "cell_type": "markdown",
   "metadata": {},
   "source": [
    "#### 10. Now it's time to code the execution of the game using the functions and variables you defined above. \n",
    "\n",
    "First, create a loop structure that repeats while no player reaches the minimum score necessary to win and the number of rounds is less than the maximum number of rounds to play in a game.  \n",
    "\n",
    "Inside the loop, use the functions and variables above to create the execution of a round: ask for the player's choice, generate the random choice of the computer, show the round results, update the scores, etc. "
   ]
  },
  {
   "cell_type": "markdown",
   "metadata": {},
   "source": [
    "Logic for the game play:\n",
    "\n",
    "1) Store the current round (round 1, round 2 etc.)\n",
    "    HINT - current_round =1\n",
    "2) using a while loop to check whether we should go ahead to play a new round\n",
    "    HINT - current_round is less than the n_rounds \n",
    "    and \n",
    "    cpu has won less than rounds_to_win \n",
    "    and\n",
    "    player has won less than rounds_to_win\n",
    "3) & 4) choose a cpu gesture, player gesture\n",
    "5) run the function to see who has won this round\n",
    "6) update the scores* according to the outcome/result of previous step/function\n",
    "    HINT* - Google \"how to update global variable in a function Python\"\n",
    "7) announce to the world on the choice of player / cpu and result of the round\n",
    "8) if playing a new round, update the current round"
   ]
  },
  {
   "cell_type": "code",
   "execution_count": null,
   "metadata": {},
   "outputs": [
    {
     "name": "stdout",
     "output_type": "stream",
     "text": [
      "Round # 1\n"
     ]
    }
   ],
   "source": [
    "def whole_game():\n",
    "    current_round=1\n",
    "    while current_round <= n_rounds and (cpu_score < rounds_to_win or cpu_score < rounds_to_win): \n",
    "        print('Round #', current_round) \n",
    "        cpu_move= computer_gesture()\n",
    "        player_move= player_gesture()\n",
    "        round_result= round_winner(cpu_move, player_move)\n",
    "        \n",
    "        print(round_recap(cpu_move, player_move, round_result))\n",
    "        print('Computer score is', cpu_score)\n",
    "        print('Player score is', player_score)\n",
    "        \n",
    "        print()\n",
    "        current_round +=1\n",
    "    \n",
    "whole_game()"
   ]
  },
  {
   "cell_type": "markdown",
   "metadata": {},
   "source": [
    "#### 11. Print the winner of the game based on who won more rounds.\n",
    "Remember that the game might be tied. "
   ]
  },
  {
   "cell_type": "code",
   "execution_count": null,
   "metadata": {},
   "outputs": [],
   "source": [
    "if cpu_score > player_score:\n",
    "    print(\"Computer wins.\")\n",
    "elif cpu_score < player_score:\n",
    "    print(\"Player wins.\")\n",
    "elif cpu_score == player_score:\n",
    "    print(\"It's a tie.\")    "
   ]
  },
  {
   "cell_type": "markdown",
   "metadata": {},
   "source": [
    "# Bonus: Rock, Paper, Scissors, Lizard & Spock\n",
    "![](images/rpsls.jpg)\n",
    "\n",
    "In this challenge, you need to improve the previous game by adding two new options. To know more about the rules of the improved version of rock, paper, scissors, check this [link](http://www.samkass.com/theories/RPSSL.html). \n",
    "\n",
    "In addition, you will also need to improve how the game interacts with the player: the number of rounds to play, which must be an odd number, will be requested to the user until a valid number is entered. Define a new function to make that request.\n",
    "\n",
    "**Hint**: Try to reuse the code that you already coded in the previous challenge. If your code is efficient, this bonus will only consist of simple modifications to the original game.\n",
    "\n"
   ]
  },
  {
   "cell_type": "code",
   "execution_count": null,
   "metadata": {},
   "outputs": [],
   "source": [
    "gestures.append(\"spock\")\n",
    "gestures.append(\"lizard\")"
   ]
  },
  {
   "cell_type": "code",
   "execution_count": null,
   "metadata": {},
   "outputs": [],
   "source": [
    "def rounds(n):\n",
    "    n = int(input(\"Player, choose the number of rounds. It must be an odd number.\"))\n",
    "    while n %2 == 0:\n",
    "        n = int(input(\"Player, choose the number of rounds. It must be an odd number.\"))\n",
    "    return n\n",
    "n_rounds=rounds(0)\n",
    "print(n_rounds)"
   ]
  },
  {
   "cell_type": "code",
   "execution_count": null,
   "metadata": {},
   "outputs": [],
   "source": [
    "rounds_to_win=int(n_rounds/2)+1\n",
    "print(rounds_to_win)"
   ]
  },
  {
   "cell_type": "code",
   "execution_count": null,
   "metadata": {},
   "outputs": [],
   "source": [
    "cpu_score =0\n",
    "player_score =0"
   ]
  },
  {
   "cell_type": "code",
   "execution_count": null,
   "metadata": {},
   "outputs": [],
   "source": [
    "def computer_gesture():  \n",
    "    return random.choice(gestures)"
   ]
  },
  {
   "cell_type": "code",
   "execution_count": null,
   "metadata": {},
   "outputs": [],
   "source": [
    "def player_gesture():\n",
    "    playerinput = input(\"Player, choose either rock/paper/scissors/spock/lizard\")\n",
    "    while playerinput not in gestures:\n",
    "        playerinput = input(\"Player, choose either rock/paper/scissors/spock/lizard\")\n",
    "    return(playerinput)"
   ]
  },
  {
   "cell_type": "code",
   "execution_count": null,
   "metadata": {},
   "outputs": [],
   "source": [
    "def round_winner(cpu_move, player_move):\n",
    "        \n",
    "    if cpu_move == 'rock':\n",
    "        if player_move == 'rock':\n",
    "            return 0\n",
    "        elif player_move == 'paper':\n",
    "            return 2\n",
    "        elif player_move == 'scissors':\n",
    "            return 1\n",
    "        elif player_move == 'spock':\n",
    "            return 2\n",
    "        elif player_move == 'lizard':\n",
    "            return 1\n",
    "    elif cpu_move == 'scissors':\n",
    "        if player_move == 'rock':\n",
    "            return 2\n",
    "        elif player_move == 'paper':\n",
    "            return 1\n",
    "        elif player_move == 'scissors':\n",
    "            return 0\n",
    "        elif player_move == 'spock':\n",
    "            return 2\n",
    "        elif player_move == 'lizard':\n",
    "            return 1\n",
    "    elif cpu_move == 'paper':\n",
    "        if player_move == 'rock':\n",
    "            return 1\n",
    "        elif player_move == 'paper':\n",
    "            return 0\n",
    "        elif player_move == 'scissors':\n",
    "            return 2\n",
    "        elif player_move == 'spock':\n",
    "            return 1\n",
    "        elif player_move == 'lizard':\n",
    "            return 2"
   ]
  },
  {
   "cell_type": "code",
   "execution_count": null,
   "metadata": {},
   "outputs": [],
   "source": [
    "def round_recap(cpu_move, player_move, round_result):\n",
    "    \n",
    "    print('Computer gesture is', cpu_move)\n",
    "    print('Player gesture is', player_move)\n",
    "    \n",
    "    if round_result == 0:\n",
    "        return(\"It's a tie.\")\n",
    "    \n",
    "    elif round_result == 1:\n",
    "        print('Computer wins this round.')\n",
    "        global cpu_score\n",
    "        global player_score\n",
    "        cpu_score +=1\n",
    "        return(cpu_score)\n",
    "    \n",
    "    elif round_result == 2:\n",
    "        print('Player wins this round.')\n",
    "        player_score +=1\n",
    "        return(player_score)\n",
    "    \n",
    "    "
   ]
  },
  {
   "cell_type": "code",
   "execution_count": null,
   "metadata": {},
   "outputs": [],
   "source": [
    "def whole_game():\n",
    "    current_round=1\n",
    "    while current_round <= n_rounds and (cpu_score < rounds_to_win or cpu_score < rounds_to_win): \n",
    "        print('Round #', current_round) \n",
    "        cpu_move= computer_gesture()\n",
    "        player_move= player_gesture()\n",
    "        round_result= round_winner(cpu_move, player_move)\n",
    "        \n",
    "        print(round_recap(cpu_move, player_move, round_result))\n",
    "        print('Computer score is', cpu_score)\n",
    "        print('Player score is', player_score)\n",
    "        \n",
    "        print()\n",
    "        current_round +=1\n",
    "    \n",
    "whole_game()"
   ]
  },
  {
   "cell_type": "code",
   "execution_count": null,
   "metadata": {},
   "outputs": [],
   "source": [
    "if cpu_score > player_score:\n",
    "    print(\"Computer wins.\")\n",
    "elif cpu_score < player_score:\n",
    "    print(\"Player wins.\")\n",
    "elif cpu_score == player_score:\n",
    "    print(\"It's a tie.\")    "
   ]
  }
 ],
 "metadata": {
  "kernelspec": {
   "display_name": "Python 3",
   "language": "python",
   "name": "python3"
  },
  "language_info": {
   "codemirror_mode": {
    "name": "ipython",
    "version": 3
   },
   "file_extension": ".py",
   "mimetype": "text/x-python",
   "name": "python",
   "nbconvert_exporter": "python",
   "pygments_lexer": "ipython3",
   "version": "3.7.6"
  }
 },
 "nbformat": 4,
 "nbformat_minor": 2
}
